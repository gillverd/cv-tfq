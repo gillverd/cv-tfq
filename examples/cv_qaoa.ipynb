{
 "cells": [
  {
   "cell_type": "code",
   "execution_count": 2,
   "metadata": {},
   "outputs": [],
   "source": [
    "import sys\n",
    "sys.path.append(\"..\")\n",
    "\n",
    "import sympy\n",
    "import numpy as np\n",
    "import matplotlib.pyplot as plt\n",
    "\n",
    "from collections import Counter\n",
    "\n",
    "import tensorflow as tf\n",
    "import tensorflow_quantum as tfq\n",
    "import cirq\n",
    "\n",
    "from cv_ops import PositionOp, MomentumOp\n",
    "from cv_subroutines import centeredQFT\n",
    "from tests.util.cvutil import domain_bin"
   ]
  },
  {
   "cell_type": "code",
   "execution_count": 3,
   "metadata": {},
   "outputs": [],
   "source": [
    "def U_mix(qubits, gamma):\n",
    "    \"\"\"\n",
    "    prepare a unitary mixing operator for CV-QAOA, U=e^(-i*gamma*1/2*p^2)\n",
    "    Args:\n",
    "        qubits (list [qubits]): list of qubits that contain the bits\n",
    "        gamma: QAOA trainable parameter\n",
    "    Returns:\n",
    "        (circuit): the mixing circuit for CV-QAOA\n",
    "    \"\"\"\n",
    "    d = 2 ** len(qubits)\n",
    "    return centeredQFT(qubits, inverse=True) + tfq.util.exponential(operators = [(1/2) * MomentumOp(qubits).op ** 2], coefficients = gamma) + centeredQFT(qubits)\n",
    "\n",
    "def H_cost_poly(qubits, poly):\n",
    "    \"\"\"\n",
    "    prepare a cost hamiltonian from a specific polynomial cost function\n",
    "    Args:\n",
    "        qubits (list [qubits]): list of qubits that contain the bits\n",
    "        poly: (list [float]): list of polynomial coefficients that define cost function\n",
    "    Returns:\n",
    "        (circuit): the cost Hamiltonian operator for CV-QAOA\n",
    "    \"\"\"\n",
    "    H_c = cirq.PauliSum()\n",
    "    for q in qubits:\n",
    "        # Add Identity Operator for constant coefficient\n",
    "        H_c += cirq.PauliString((poly[0]/len(qubits))*cirq.I(q))\n",
    "    for idx, p in enumerate(poly[1:]):\n",
    "        # Add powers of Position Operator for non-constant coefficients\n",
    "        temp_op = p * PositionOp(qubits).op\n",
    "        for _ in range(idx):\n",
    "            temp_op *= PositionOp(qubits).op\n",
    "        H_c += temp_op\n",
    "\n",
    "    return H_c"
   ]
  },
  {
   "cell_type": "code",
   "execution_count": 4,
   "metadata": {},
   "outputs": [],
   "source": [
    "def generate_parameters(p):\n",
    "    \"\"\"\n",
    "    generate the sympy symbol for the QAOA parameters, eta and gamma\n",
    "    Args:\n",
    "        p (int): the number of QAOA layers\n",
    "    Returns:\n",
    "        (sympy symbols): the symbols used for QAOA training\n",
    "    \"\"\"\n",
    "    param_list = ['a','b']\n",
    "    for _ in range(p - 1):\n",
    "        param_list += [chr(ord(param_list[-1]) + 1), chr(ord(param_list[-1]) + 2)]\n",
    "    param_string = param_list[0]\n",
    "    for param in param_list[1:]:\n",
    "        param_string += ' ' + param\n",
    "    return sympy.symbols(param_string)\n",
    "\n",
    "def qaoa_circuit(qubits, poly, p, qaoa_parameters):\n",
    "    \"\"\"\n",
    "    generate the ansatz circuit for CV-QAOA\n",
    "    Args:\n",
    "        qubits (list [qubits]): list of qubits that contain the bits\n",
    "        poly (list [float]): list of polynomial coefficients that define cost function\n",
    "        p (int): the number of QAOA layers\n",
    "        qaoa_parameters (sympy symbols): the symbols used for QAOA training\n",
    "    \"\"\"\n",
    "    circuit = cirq.Circuit()\n",
    "    for idx in range(p):\n",
    "        # Interleave cost and mixing layers\n",
    "        circuit += tfq.util.exponential(operators = [H_cost_poly(qubits, poly)], coefficients = qaoa_parameters[2*idx:2*idx+1])\n",
    "        circuit += U_mix(qubits, qaoa_parameters[2*idx+1:2*idx+2])\n",
    "    return circuit\n",
    "\n",
    "# Creates a circuit of all Hadamard gates\n",
    "def hadamard_circuit(qubits):\n",
    "    return cirq.Circuit([cirq.H(q) for q in qubits])"
   ]
  },
  {
   "cell_type": "code",
   "execution_count": 5,
   "metadata": {},
   "outputs": [],
   "source": [
    "def find_optimal_qaoa_params(qaoa_model, input_circs, optimizer, tol):\n",
    "    \"\"\"\n",
    "    trains and optimizes QAOA parameters\n",
    "    Args:\n",
    "        qaoa_model (keras model): the qaoa circuit model to train on\n",
    "        input_circs (cirq circuit): a circuit to run as input to the qaoa model\n",
    "        optimizer (keras optimizer): a classical optimizer for the QAOA loop\n",
    "        tol (float): a tolerance below which the optimization stops\n",
    "    Return:\n",
    "        (list [float]): a list of the loss function (corresponding to the \n",
    "                        function value to minimize) over the course of training\n",
    "    \"\"\"\n",
    "    old_func_val = np.inf\n",
    "    vals = []\n",
    "    diff = np.inf\n",
    "    iter_num = 0\n",
    "    # While consecutive values are further apart than the tolerance\n",
    "    while (diff > tol):\n",
    "        if (iter_num + 1) % 100 == 0:\n",
    "            print(\"Iteration \" + str(iter_num + 1) + \"\\nFunction Value: \" + str(vals[-1]))\n",
    "        with tf.GradientTape() as tape:\n",
    "            func_val = qaoa_model(tfq.convert_to_tensor(input_circs))\n",
    "        gradients = tape.gradient(func_val, qaoa_model.trainable_variables)\n",
    "        optimizer.apply_gradients(zip(gradients, qaoa_model.trainable_variables))\n",
    "        func_val = func_val.numpy()[0][0]\n",
    "        vals.append(func_val)\n",
    "        diff = abs(func_val - old_func_val)\n",
    "        old_func_val = func_val\n",
    "        iter_num += 1\n",
    "    return vals"
   ]
  },
  {
   "cell_type": "code",
   "execution_count": 6,
   "metadata": {},
   "outputs": [],
   "source": [
    "def run_qaoa(poly_to_optimize, precision):\n",
    "    \n",
    "    # This defines the dynamic range of the discretization\n",
    "    n_qubits = precision\n",
    "    qubits = [cirq.GridQubit(0,i) for i in range(n_qubits)]\n",
    "    \n",
    "    # Number of QAOA layers\n",
    "    p = 10\n",
    "    qaoa_parameters = generate_parameters(p)\n",
    "\n",
    "    learning_rate = 0.01\n",
    "    optimizer  = tf.keras.optimizers.Adam(learning_rate=learning_rate)\n",
    "    tol = 1e-6\n",
    "    \n",
    "    input_circs = [hadamard_circuit(qubits)]\n",
    "    qaoa_circ = qaoa_circuit(qubits, poly_to_optimize, p, qaoa_parameters)\n",
    "    model_readout = H_cost_poly(qubits, poly_to_optimize)\n",
    "    inputs = tf.keras.layers.Input(shape=(), dtype=tf.dtypes.string)\n",
    "    qaoa_pqc = tfq.layers.PQC(qaoa_circ, model_readout, differentiator=tfq.differentiators.Adjoint())(inputs)\n",
    "    qaoa_model = tf.keras.models.Model(inputs=inputs, outputs=qaoa_pqc)\n",
    "\n",
    "    func_val_history = find_optimal_qaoa_params(qaoa_model, input_circs, optimizer, tol)\n",
    "\n",
    "    # Read out the optimal paramters and sample from the final state 1000 times\n",
    "    params = qaoa_model.trainable_variables\n",
    "    add = tfq.layers.AddCircuit()\n",
    "    output_circuit = add(tfq.convert_to_tensor(input_circs), append = qaoa_circuit(qubits, poly_to_optimize, p, qaoa_parameters))\n",
    "\n",
    "    sample_layer = tfq.layers.Sample()\n",
    "    output = sample_layer(output_circuit,  symbol_names=qaoa_parameters, symbol_values = params, repetitions=1000)\n",
    "\n",
    "    return output\n",
    "\n",
    "def plot_output(output):\n",
    "    count = Counter([\"\".join([str(bit) for bit in bitstring]) for bitstring in output.numpy()[0]])\n",
    "    cirq.plot_state_histogram(count, plt.subplot())\n",
    "    plt.show()\n",
    "    # plt.savefig(\"output_histogram.png\")"
   ]
  },
  {
   "cell_type": "code",
   "execution_count": 7,
   "metadata": {},
   "outputs": [],
   "source": [
    "def plot_cost_function(poly, precision):\n",
    "    limits = [-np.sqrt(2 * np.pi * 2 ** precision) / 2,\n",
    "               np.sqrt(2 * np.pi * 2 ** precision) / 2]\n",
    "    domain = [limits[0] + i*((limits[1]-limits[0])/(2**precision)) for i in range(2**precision)]\n",
    "    xs = np.arange(limits[0],limits[1],0.01)\n",
    "    ys = [0] * len(xs)\n",
    "    for idx, x in enumerate(xs):\n",
    "        ys[idx] = poly[0]\n",
    "        for pow, coeff in enumerate(poly[1:]):\n",
    "            temp_val = coeff*x\n",
    "            for _ in range(pow):\n",
    "                temp_val *= x\n",
    "            ys[idx] += temp_val\n",
    "    \n",
    "    fig = plt.figure(1)\n",
    "    ax = fig.add_axes([0.1, 0.1, 0.8, 0.8])\n",
    "    ax.plot(xs, ys)\n",
    "    ax.set_xlabel('discretization')\n",
    "    ax.set_title('cost function value')\n",
    "    ax.set_xticks(domain)\n",
    "    ax.set_xticklabels([domain_bin(domain_val, precision) for domain_val in domain], rotation=90)\n",
    "    plt.show()"
   ]
  },
  {
   "cell_type": "code",
   "execution_count": 9,
   "metadata": {},
   "outputs": [
    {
     "name": "stdout",
     "output_type": "stream",
     "text": [
      "Iteration 100\n",
      "Function Value: 4.700457\n",
      "Iteration 200\n",
      "Function Value: 4.175939\n",
      "Iteration 300\n",
      "Function Value: 4.0214853\n"
     ]
    },
    {
     "data": {
      "image/png": "[encoded data removed]",
      "text/plain": [
       "<Figure size 432x288 with 1 Axes>"
      ]
     },
     "metadata": {
      "needs_background": "light"
     },
     "output_type": "display_data"
    },
    {
     "data": {
      "image/png": "[encoded data removed]",
      "text/plain": [
       "<Figure size 432x288 with 1 Axes>"
      ]
     },
     "metadata": {
      "needs_background": "light"
     },
     "output_type": "display_data"
    }
   ],
   "source": [
    "# Polynomial, specified as: poly[0] + poly[1]*x + poly[2]*x^2 + ...\n",
    "# This polynomial has a minimum at x=2.5, which corresponds almost exactly\n",
    "# to the bitstring 1100 (for 4-bits)\n",
    "poly = [10.0, -5.0, 1.0]\n",
    "precision = 4\n",
    "\n",
    "output = run_qaoa(poly, precision)\n",
    "plot_cost_function(poly, precision)\n",
    "plot_output(output)"
   ]
  },
  {
   "cell_type": "code",
   "execution_count": null,
   "metadata": {},
   "outputs": [],
   "source": []
  }
 ],
 "metadata": {
  "kernelspec": {
   "display_name": "Python 3 (ipykernel)",
   "language": "python",
   "name": "python3"
  },
  "language_info": {
   "codemirror_mode": {
    "name": "ipython",
    "version": 3
   },
   "file_extension": ".py",
   "mimetype": "text/x-python",
   "name": "python",
   "nbconvert_exporter": "python",
   "pygments_lexer": "ipython3",
   "version": "3.8.10"
  }
 },
 "nbformat": 4,
 "nbformat_minor": 2
}
