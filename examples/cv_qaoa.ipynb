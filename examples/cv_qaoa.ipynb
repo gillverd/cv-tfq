{
 "cells": [
  {
   "cell_type": "code",
   "execution_count": null,
   "metadata": {},
   "outputs": [],
   "source": [
    "import sys\n",
    "sys.path.append(\"..\")\n",
    "\n",
    "import sympy\n",
    "import numpy as np\n",
    "import matplotlib.pyplot as plt\n",
    "\n",
    "from collections import Counter\n",
    "\n",
    "import tensorflow as tf\n",
    "import tensorflow_quantum as tfq\n",
    "import cirq\n",
    "\n",
    "from cv_ops import PositionOp, MomentumOp\n",
    "from cv_subroutines import centeredQFT"
   ]
  },
  {
   "cell_type": "code",
   "execution_count": null,
   "metadata": {},
   "outputs": [],
   "source": [
    "def U_mix(qubits, gamma):\n",
    "    d = 2 ** len(qubits)\n",
    "    return centeredQFT(qubits, inverse=True) + tfq.util.exponential(operators = [(1/2) * MomentumOp(qubits).op ** 2], coefficients = gamma) + centeredQFT(qubits)\n",
    "\n",
    "def H_cost_poly(qubits, poly):\n",
    "    H_c = cirq.PauliSum()\n",
    "    for q in qubits:\n",
    "        H_c += cirq.PauliString((poly[0]/len(qubits))*cirq.I(q))\n",
    "    for idx, p in enumerate(poly[1:]):\n",
    "        temp_op = p * PositionOp(qubits).op\n",
    "        for _ in range(idx):\n",
    "            temp_op *= PositionOp(qubits).op\n",
    "        H_c += temp_op\n",
    "\n",
    "    return H_c"
   ]
  },
  {
   "cell_type": "code",
   "execution_count": null,
   "metadata": {},
   "outputs": [],
   "source": [
    "def generate_parameters(p):\n",
    "    param_list = ['a','b']\n",
    "    for _ in range(p - 1):\n",
    "        param_list += [chr(ord(param_list[-1]) + 1), chr(ord(param_list[-1]) + 2)]\n",
    "    param_string = param_list[0]\n",
    "    for param in param_list[1:]:\n",
    "        param_string += ' ' + param\n",
    "    return sympy.symbols(param_string)\n",
    "\n",
    "def qaoa_circuit(qubits, poly, p, qaoa_parameters):\n",
    "    circuit = cirq.Circuit()\n",
    "    for idx in range(p):\n",
    "        circuit += tfq.util.exponential(operators = [H_cost_poly(qubits, poly)], coefficients = qaoa_parameters[2*idx:2*idx+1])\n",
    "        circuit += U_mix(qubits, qaoa_parameters[2*idx+1:2*idx+2])\n",
    "    return circuit\n",
    "\n",
    "def hadamard_circuit(qubits):\n",
    "    return cirq.Circuit([cirq.H(q) for q in qubits])"
   ]
  },
  {
   "cell_type": "code",
   "execution_count": null,
   "metadata": {},
   "outputs": [],
   "source": [
    "def find_optimal_qaoa_params(qaoa_model, input_circs, optimizer, tol):\n",
    "    old_func_val = np.inf\n",
    "    vals = []\n",
    "    diff = np.inf\n",
    "    iter_num = 0\n",
    "    while (diff > tol):\n",
    "        if (iter_num + 1) % 100 == 0:\n",
    "            print(\"Iteration \" + str(iter_num + 1) + \"\\nFunction Value: \" + str(vals[-1]))\n",
    "        with tf.GradientTape() as tape:\n",
    "            func_val = qaoa_model(tfq.convert_to_tensor(input_circs))\n",
    "        gradients = tape.gradient(func_val, qaoa_model.trainable_variables)\n",
    "        optimizer.apply_gradients(zip(gradients, qaoa_model.trainable_variables))\n",
    "        func_val = func_val.numpy()[0][0]\n",
    "        vals.append(func_val)\n",
    "        diff = abs(func_val - old_func_val)\n",
    "        old_func_val = func_val\n",
    "        iter_num += 1\n",
    "    return vals"
   ]
  },
  {
   "cell_type": "code",
   "execution_count": null,
   "metadata": {},
   "outputs": [],
   "source": [
    "def run_qaoa():\n",
    "    poly_to_optimize = [10.0, -5.0, 1.0]\n",
    "    n_qubits = 4\n",
    "    qubits = [cirq.GridQubit(0,i) for i in range(n_qubits)]\n",
    "    p = 10\n",
    "    qaoa_parameters = generate_parameters(p)\n",
    "\n",
    "    learning_rate = 0.01\n",
    "    optimizer  = tf.keras.optimizers.Adam(learning_rate=learning_rate)\n",
    "    tol = 1e-7\n",
    "    \n",
    "    input_circs = [hadamard_circuit(qubits)]\n",
    "    qaoa_circ = qaoa_circuit(qubits, poly_to_optimize, p, qaoa_parameters)\n",
    "    model_readout = H_cost_poly(qubits, poly_to_optimize)\n",
    "    inputs = tf.keras.layers.Input(shape=(), dtype=tf.dtypes.string)\n",
    "    qaoa_pqc = tfq.layers.PQC(qaoa_circ, model_readout, differentiator=tfq.differentiators.Adjoint())(inputs)\n",
    "    qaoa_model = tf.keras.models.Model(inputs=inputs, outputs=qaoa_pqc)\n",
    "\n",
    "    func_val_history = find_optimal_qaoa_params(qaoa_model, input_circs, optimizer, tol)\n",
    "\n",
    "    # Read out the optimal paramters and sample from the final state 1000 times\n",
    "    params = qaoa_model.trainable_variables\n",
    "    add = tfq.layers.AddCircuit()\n",
    "    output_circuit = add(tfq.convert_to_tensor(input_circs), append = qaoa_circuit(qubits, poly_to_optimize, p, qaoa_parameters))\n",
    "\n",
    "    sample_layer = tfq.layers.Sample()\n",
    "    output = sample_layer(output_circuit,  symbol_names=qaoa_parameters, symbol_values = params, repetitions=1000)\n",
    "\n",
    "    return output\n",
    "\n",
    "def plot_output(output):\n",
    "    count = Counter([\"\".join([str(bit) for bit in bitstring]) for bitstring in output.numpy()[0]])\n",
    "    cirq.plot_state_histogram(count, plt.subplot())\n",
    "    plt.show()\n",
    "    # plt.savefig(\"output_histogram.png\")"
   ]
  },
  {
   "cell_type": "code",
   "execution_count": null,
   "metadata": {},
   "outputs": [],
   "source": [
    "output = run_qaoa()\n",
    "plot_output(output)"
   ]
  }
 ],
 "metadata": {
  "language_info": {
   "name": "python"
  },
  "orig_nbformat": 4
 },
 "nbformat": 4,
 "nbformat_minor": 2
}
