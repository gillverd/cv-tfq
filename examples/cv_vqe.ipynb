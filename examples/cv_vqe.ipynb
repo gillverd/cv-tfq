{
 "cells": [
  {
   "cell_type": "code",
   "execution_count": 23,
   "id": "3b25ee32",
   "metadata": {},
   "outputs": [],
   "source": [
    "import tensorflow as tf\n",
    "import tensorflow_quantum as tfq\n",
    "import cirq\n",
    "import sympy\n",
    "import numpy as np\n",
    "import matplotlib.pyplot as plt\n",
    "from cv_ops import MomentumOp, PositionOp"
   ]
  },
  {
   "cell_type": "code",
   "execution_count": 32,
   "id": "b68a13f1",
   "metadata": {},
   "outputs": [],
   "source": [
    "def hea_layer(qubits, parameters):\n",
    "    circuit = cirq.Circuit()\n",
    "    for i in range(len(qubits)):\n",
    "        circuit += cirq.ry(parameters[3 * i]).on(qubits[i])\n",
    "        circuit += cirq.rz(parameters[3 * i + 1]).on(qubits[i])\n",
    "        circuit += cirq.ry(parameters[3 * i + 2]).on(qubits[i])\n",
    "    for i in range(len(qubits)-1):\n",
    "        circuit += cirq.CNOT(qubits[i], qubits[i + 1])\n",
    "    circuit += cirq.CNOT(qubits[-1], qubits[0])\n",
    "    return circuit\n",
    "\n",
    "def cv_qaoa_layer(qubits, parameters, hamiltonian):\n",
    "    return tfq.util.exponential([hamiltonian], [parameters[0]])# + tfq.util.exponential([1/2 * PositionOp(qubits).op * PositionOp(qubits).op], [parameters[1]])\n",
    "\n",
    "def ansatz(qubits, layers, parameters, hamiltonian):\n",
    "    circuit = cirq.Circuit()\n",
    "    counter = 0\n",
    "    for i in range(layers):\n",
    "        params = parameters[counter:counter+2]\n",
    "        counter += 2\n",
    "        circuit += cv_qaoa_layer(qubits, params, hamiltonian)\n",
    "        params = parameters[counter:counter + 3 * len(qubits)]\n",
    "        counter += 3 * len(qubits)\n",
    "        circuit += hea_layer(qubits, params)\n",
    "    return circuit"
   ]
  },
  {
   "cell_type": "code",
   "execution_count": 33,
   "id": "822bfed0",
   "metadata": {},
   "outputs": [],
   "source": [
    "def make_vqe(qubits, layers, hamiltonian):\n",
    "    num_params = layers * (3 * len(qubits) + 2)\n",
    "    params = sympy.symbols('vqe0:%d'%num_params)\n",
    "    c = ansatz(qubits, layers, params, hamiltonian)\n",
    "    ins = tf.keras.layers.Input(shape=(), dtype=tf.dtypes.string)\n",
    "    pqc = tfq.layers.PQC(c, hamiltonian, differentiator=tfq.differentiators.Adjoint())(ins)\n",
    "    vqe = tf.keras.models.Model(inputs=ins, outputs=pqc)\n",
    "    return vqe, c\n",
    "\n",
    "def optimize_vqe_gradient(vqe):\n",
    "    old = np.inf\n",
    "    inputs = tfq.convert_to_tensor([cirq.Circuit()])\n",
    "    opt = tf.keras.optimizers.Adam(learning_rate=0.01) \n",
    "    counter = 0\n",
    "    energys = []\n",
    "    while True:\n",
    "        if (counter + 1) % 50 == 0:\n",
    "            print(counter, energys[-1])\n",
    "        with tf.GradientTape() as tape:\n",
    "            energy = vqe(inputs)\n",
    "        grads = tape.gradient(energy, vqe.trainable_variables)\n",
    "        opt.apply_gradients(zip(grads, vqe.trainable_variables))\n",
    "        energy = energy.numpy()[0][0]\n",
    "        energys.append(energy)\n",
    "        if abs(energy - old) < 1e-5:\n",
    "            break\n",
    "        old = energy\n",
    "        counter += 1\n",
    "\n",
    "    return energys"
   ]
  },
  {
   "cell_type": "code",
   "execution_count": 34,
   "id": "fa9c032f",
   "metadata": {},
   "outputs": [
    {
     "name": "stdout",
     "output_type": "stream",
     "text": [
      "49 0.6916018\n",
      "99 0.4650361\n",
      "149 0.3414838\n",
      "199 0.30067202\n",
      "249 0.29001087\n",
      "299 0.28354338\n",
      "349 0.27947482\n",
      "399 0.27301946\n",
      "449 0.26172933\n",
      "499 0.24449752\n",
      "549 0.23642087\n",
      "599 0.23340647\n",
      "649 0.23181902\n",
      "699 0.23076577\n",
      "749 0.22959538\n",
      "799 0.2279482\n",
      "849 0.22561365\n",
      "899 0.22233519\n",
      "949 0.21820128\n",
      "999 0.21396697\n",
      "1049 0.20761931\n",
      "1099 0.20304164\n",
      "1149 0.19986156\n"
     ]
    },
    {
     "data": {
      "image/png": "[encoded data removed]",
      "text/plain": [
       "<Figure size 432x288 with 1 Axes>"
      ]
     },
     "metadata": {
      "needs_background": "light"
     },
     "output_type": "display_data"
    }
   ],
   "source": [
    "N = 8\n",
    "layers = 8\n",
    "\n",
    "qs = [cirq.GridQubit(0, i) for i in range(N)]\n",
    "problem = (PositionOp(qs).op**2 + MomentumOp(qs).op**2)/2**(N-1)\n",
    "\n",
    "#print(problem)\n",
    "\n",
    "vqe, circuit = make_vqe(qs, layers, problem)\n",
    "results = optimize_vqe_gradient(vqe)\n",
    "\n",
    "params_str = list(sorted(tfq.util.get_circuit_symbols(circuit))) \n",
    "params = [sympy.symbols(i) for i in params_str] \n",
    "\n",
    "final_state = tfq.layers.State()(circuit, symbol_names=params, symbol_values=vqe.trainable_variables).to_tensor()\n",
    "wave_fn = tf.math.real(tf.math.conj(final_state) * final_state)\n",
    "\n",
    "plt.plot(wave_fn[0], label=\"Wavefunction\")\n",
    "plt.legend()\n",
    "plt.show()\n",
    "\n",
    "#print(results[-10:])\n",
    "#plt.plot(results)\n",
    "#plt.show()"
   ]
  },
  {
   "cell_type": "code",
   "execution_count": null,
   "id": "0ad29309",
   "metadata": {},
   "outputs": [],
   "source": []
  }
 ],
 "metadata": {
  "kernelspec": {
   "display_name": "Python 3 (ipykernel)",
   "language": "python",
   "name": "python3"
  },
  "language_info": {
   "codemirror_mode": {
    "name": "ipython",
    "version": 3
   },
   "file_extension": ".py",
   "mimetype": "text/x-python",
   "name": "python",
   "nbconvert_exporter": "python",
   "pygments_lexer": "ipython3",
   "version": "3.9.7"
  }
 },
 "nbformat": 4,
 "nbformat_minor": 5
}
